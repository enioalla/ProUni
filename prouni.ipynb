{
 "cells": [
  {
   "cell_type": "markdown",
   "metadata": {},
   "source": [
    "## Progama Universidade para Todos?\n"
   ]
  },
  {
   "cell_type": "markdown",
   "metadata": {},
   "source": [
    "O acesso à Educação Superior no Brasil é um tema em que o governo, principalmente o MEC, Ministério da Educação, busca sempre expandir, tornando-o cada vez mais acessível a população. <br> \n",
    "\n",
    "Medidas como reserva de vagas em Universidades Públicas para Negros, Indígenas e estudantes egressos da escola são provas da busca por democratizar o acesso ao diploma de graduação. <br> \n",
    "\n",
    "Outro programa do governo federal quem tem esse intuito é o ProUni, Programa Universidade Para Todos, criado em 2004 pelo então Ministro da Educação, Fernando Haddad. <br> \n",
    "\n",
    "O próprio [site do ProUni]( https://acessounico.mec.gov.br/prouni) o define como um programa de ”(...)oferta bolsas de estudo, integrais e parciais (50% do valor da mensalidade do curso), em cursos de graduação e sequenciais de formação específica, em instituições de educação superior privadas. O público-alvo do programa é o estudante sem diploma de nível superior.”<br> \n",
    "\n",
    "Para poder participar do programa o candidato deve, além de outros critérios, comprovar renda familiar bruta mensal, por pessoa, de até 1,5 salários mínimos, para as bolsas integrais ou renda bruta mensal, por pessoa, de até 3 salários mínimos para as bolsas parciais. \n",
    "<br><br>\n",
    "<center><strong><h3>Mas será que o ProUni é REALMENTE para todos?</h3></strong></center>\n",
    "\n",
    "para explorar melhor essa questão iremos pecorrer algumas etapas, buscando entender o que os dados podem nos dizer sobre isso. "
   ]
  },
  {
   "cell_type": "markdown",
   "metadata": {},
   "source": [
    "## 1. Definição do Problema"
   ]
  },
  {
   "cell_type": "markdown",
   "metadata": {},
   "source": [
    "Primeiramente, deixaremos claro que o presente projeto não busca, em nenhum momento, descredibilizar a importância do ProUni para muitas pessoas. O programa realmente é responsável por acesso a educação superior de muitos brasileiros. <br>\n",
    "\n",
    "O projeto busca analisar a forma como as bolsas são distribuidas em diferentes aspectos como gênero, raça e regiões do país. Dessa forma, buscamos identificar se o ProUni realmente democratiza o acesso as universidades para os Brasileiros. Como essas bolsas são distribuidas pelo Brasil. <br>\n",
    "\n",
    "Iremos então comparar os dados do próprio ProUni com os dados do senso do IBGE para essas análises"
   ]
  },
  {
   "cell_type": "markdown",
   "metadata": {},
   "source": [
    "## 2. Obtenção dos Dados"
   ]
  },
  {
   "cell_type": "markdown",
   "metadata": {},
   "source": [
    "1. Iremos utilizar os dados disponíveis no [site](https://dadosabertos.mec.gov.br/prouni) de dados do MEC sobre o ProUni. Para essa análise, utilizaremos os 4 últimos anos disponíveis (2017 a 2020).\n",
    "\n",
    "2. Comparativamente utilizaremos os dados do IBGE (sempre em porcentagem). Sempre que forem utilizados, será descrito a fonte do mesmo. "
   ]
  },
  {
   "cell_type": "code",
   "execution_count": 8,
   "metadata": {},
   "outputs": [],
   "source": [
    "#Bibliotecas utilizadas no tratamento de dados\n",
    "import pandas as pd\n",
    "from unidecode import unidecode\n",
    "import re"
   ]
  },
  {
   "cell_type": "code",
   "execution_count": 9,
   "metadata": {},
   "outputs": [],
   "source": [
    "df_2020 = pd.read_csv('Dados/ProuniRelatorioDadosAbertos2020.csv',sep= ';',encoding='latin-1')\n",
    "df_2019 = pd.read_csv('Dados/pda-prouni-2019.csv',sep= ';',encoding='utf-8')\n",
    "df_2018 = pd.read_csv('Dados/pda-prouni-2018.csv',sep= ';',encoding='utf-8')\n",
    "df_2017 = pd.read_csv('Dados/pda-prouni-2017.csv',sep= ';',encoding='utf-8')\n"
   ]
  },
  {
   "cell_type": "markdown",
   "metadata": {},
   "source": [
    "## 3. Exploração e Preparação dos Dados"
   ]
  },
  {
   "cell_type": "markdown",
   "metadata": {},
   "source": [
    "Nesta etapa analisaremos os 4 arquivos selecionados para podermos qualificar esses dados.\n",
    "\n",
    "Copio aqui, o link da documentação do Próprio site do MEC em que consta o dicionário dos dados para a nossa melhor compreensão:\n",
    "<https://dadosabertos.mec.gov.br/images/pdf/dicionario-prouni-20161222.pdf>\n"
   ]
  },
  {
   "cell_type": "code",
   "execution_count": 10,
   "metadata": {},
   "outputs": [
    {
     "name": "stdout",
     "output_type": "stream",
     "text": [
      "Colunas para o ano 2017:\n",
      "- ANO_CONCESSAO_BOLSA\n",
      "- CODIGO_EMEC_IES_BOLSA\n",
      "- NOME_IES_BOLSA\n",
      "- TIPO_BOLSA\n",
      "- MODALIDADE_ENSINO_BOLSA\n",
      "- NOME_CURSO_BOLSA\n",
      "- NOME_TURNO_CURSO_BOLSA\n",
      "- CPF_BENEFICIARIO_BOLSA\n",
      "- SEXO_BENEFICIARIO_BOLSA\n",
      "- RACA_BENEFICIARIO_BOLSA\n",
      "- DT_NASCIMENTO_BENEFICIARIO\n",
      "- BENEFICIARIO_DEFICIENTE_FISICO\n",
      "- REGIAO_BENEFICIARIO_BOLSA\n",
      "- SIGLA_UF_BENEFICIARIO_BOLSA\n",
      "- MUNICIPIO_BENEFICIARIO_BOLSA\n",
      "\n",
      "Colunas para o ano 2018:\n",
      "- ANO_CONCESSAO_BOLSA\n",
      "- CODIGO_EMEC_IES_BOLSA\n",
      "- NOME_IES_BOLSA\n",
      "- TIPO_BOLSA\n",
      "- MODALIDADE_ENSINO_BOLSA\n",
      "- NOME_CURSO_BOLSA\n",
      "- NOME_TURNO_CURSO_BOLSA\n",
      "- CPF_BENEFICIARIO_BOLSA\n",
      "- SEXO_BENEFICIARIO_BOLSA\n",
      "- RACA_BENEFICIARIO_BOLSA\n",
      "- DT_NASCIMENTO_BENEFICIARIO\n",
      "- BENEFICIARIO_DEFICIENTE_FISICO\n",
      "- REGIAO_BENEFICIARIO_BOLSA\n",
      "- SIGLA_UF_BENEFICIARIO_BOLSA\n",
      "- MUNICIPIO_BENEFICIARIO_BOLSA\n",
      "\n",
      "Colunas para o ano 2019:\n",
      "- ANO_CONCESSAO_BOLSA\n",
      "- CODIGO_EMEC_IES_BOLSA\n",
      "- NOME_IES_BOLSA\n",
      "- TIPO_BOLSA\n",
      "- MODALIDADE_ENSINO_BOLSA\n",
      "- NOME_CURSO_BOLSA\n",
      "- NOME_TURNO_CURSO_BOLSA\n",
      "- CPF_BENEFICIARIO_BOLSA\n",
      "- SEXO_BENEFICIARIO_BOLSA\n",
      "- RACA_BENEFICIARIO_BOLSA\n",
      "- DT_NASCIMENTO_BENEFICIARIO\n",
      "- BENEFICIARIO_DEFICIENTE_FISICO\n",
      "- REGIAO_BENEFICIARIO_BOLSA\n",
      "- SIGLA_UF_BENEFICIARIO_BOLSA\n",
      "- MUNICIPIO_BENEFICIARIO_BOLSA\n",
      "\n",
      "Colunas para o ano 2020:\n",
      "- ANO_CONCESSAO_BOLSA\n",
      "- CODIGO_EMEC_IES_BOLSA\n",
      "- MUNICIPIO\n",
      "- CAMPUS\n",
      "- TIPO_BOLSA\n",
      "- MODALIDADE_ENSINO_BOLSA\n",
      "- NOME_CURSO_BOLSA\n",
      "- NOME_TURNO_CURSO_BOLSA\n",
      "- CPF_BENEFICIARIO\n",
      "- SEXO_BENEFICIARIO\n",
      "- RACA_BENEFICIARIO\n",
      "- DATA_NASCIMENTO\n",
      "- BENEFICIARIO_DEFICIENTE_FISICO\n",
      "- REGIAO_BENEFICIARIO\n",
      "- UF_BENEFICIARIO\n",
      "- MUNICIPIO_BENEFICIARIO\n",
      "\n"
     ]
    }
   ],
   "source": [
    "# Analise das colunas de cada dataframe para que seja possível a unificação\n",
    "columns_2020 = df_2020.columns\n",
    "columns_2019 = df_2019.columns\n",
    "columns_2018 = df_2018.columns\n",
    "columns_2017 = df_2017.columns\n",
    "lista_colunas = [\n",
    "    (\"2017\", columns_2017),\n",
    "    (\"2018\", columns_2018),\n",
    "    (\"2019\", columns_2019),\n",
    "    (\"2020\", columns_2020)\n",
    "]\n",
    "for ano, colunas in lista_colunas:\n",
    "    print(f\"Colunas para o ano {ano}:\")\n",
    "    for coluna in colunas:\n",
    "        print(f\"- {coluna}\")\n",
    "    print()\n"
   ]
  },
  {
   "cell_type": "code",
   "execution_count": 11,
   "metadata": {},
   "outputs": [],
   "source": [
    "# Ao fazer a analise, verifica-se que o df_2020 apresenta colunas diferentes das demais.\n",
    "#Alterando os nomes das colunas que serão relevantes\n",
    "novo_nomes = {\n",
    "    'CPF_BENEFICIARIO_BOLSA': 'CPF_BENEFICIARIO',\n",
    "    'SEXO_BENEFICIARIO_BOLSA': 'SEXO_BENEFICIARIO',\n",
    "    'RACA_BENEFICIARIO_BOLSA': 'RACA_BENEFICIARIO',\n",
    "    'DT_NASCIMENTO_BENEFICIARIO': 'DATA_NASCIMENTO',\n",
    "    'REGIAO_BENEFICIARIO_BOLSA': 'REGIAO_BENEFICIARIO',\n",
    "    'SIGLA_UF_BENEFICIARIO_BOLSA': 'UF_BENEFICIARIO',\n",
    "    'MUNICIPIO_BENEFICIARIO_BOLSA': 'MUNICIPIO_BENEFICIARIO'\n",
    "}\n",
    "\n",
    "# Renomeando as colunas em cada DataFrame\n",
    "df_2017.rename(columns=novo_nomes, inplace=True)\n",
    "df_2018.rename(columns=novo_nomes, inplace=True)\n",
    "df_2019.rename(columns=novo_nomes, inplace=True)"
   ]
  },
  {
   "cell_type": "code",
   "execution_count": 12,
   "metadata": {},
   "outputs": [],
   "source": [
    "#Unificando as bases de dados\n",
    "df = pd.concat([df_2017,df_2018,df_2019,df_2020],axis=0)"
   ]
  },
  {
   "cell_type": "code",
   "execution_count": 13,
   "metadata": {},
   "outputs": [],
   "source": [
    "# Alterando nome de colunas para retirar a repetição da palavra beneficiario presente nelas\n",
    "df.columns = df.columns.str.replace(r'BENEFICIARIO_', '', regex=True)\n",
    "df.columns = df.columns.str.replace(r'_BENEFICIARIO', '', regex=True)"
   ]
  },
  {
   "cell_type": "code",
   "execution_count": 14,
   "metadata": {},
   "outputs": [
    {
     "name": "stdout",
     "output_type": "stream",
     "text": [
      "15477\n"
     ]
    }
   ],
   "source": [
    "# Analisando a presença de valores nulos na coluna de anos\n",
    "nulo = df['ANO_CONCESSAO_BOLSA'].isnull().sum()\n",
    "print(nulo)"
   ]
  },
  {
   "cell_type": "code",
   "execution_count": 15,
   "metadata": {},
   "outputs": [],
   "source": [
    "#removendo linhas que possuam o ano ausente\n",
    "df = df.dropna(subset=['ANO_CONCESSAO_BOLSA'])"
   ]
  },
  {
   "cell_type": "code",
   "execution_count": 16,
   "metadata": {},
   "outputs": [
    {
     "name": "stdout",
     "output_type": "stream",
     "text": [
      "ANO_CONCESSAO_BOLSA        float64\n",
      "CODIGO_EMEC_IES_BOLSA      float64\n",
      "NOME_IES_BOLSA              object\n",
      "TIPO_BOLSA                  object\n",
      "MODALIDADE_ENSINO_BOLSA     object\n",
      "NOME_CURSO_BOLSA            object\n",
      "NOME_TURNO_CURSO_BOLSA      object\n",
      "CPF                         object\n",
      "SEXO                        object\n",
      "RACA                        object\n",
      "DATA_NASCIMENTO             object\n",
      "DEFICIENTE_FISICO           object\n",
      "REGIAO                      object\n",
      "UF                          object\n",
      "MUNICIPIO                   object\n",
      "MUNICIPIO                   object\n",
      "CAMPUS                      object\n",
      "dtype: object\n"
     ]
    }
   ],
   "source": [
    "#analisando o tipo de dados de cada colunas\n",
    "print(df.dtypes)"
   ]
  },
  {
   "cell_type": "code",
   "execution_count": 17,
   "metadata": {},
   "outputs": [],
   "source": [
    "#removendo colunas indesejadas\n",
    "df.drop(['NOME_IES_BOLSA', 'CAMPUS','MUNICIPIO','CPF','CODIGO_EMEC_IES_BOLSA','NOME_TURNO_CURSO_BOLSA'], axis=1, inplace=True)"
   ]
  },
  {
   "cell_type": "code",
   "execution_count": 18,
   "metadata": {},
   "outputs": [],
   "source": [
    "#alterando o tipo de variavel do ano para int\n",
    "df['ANO_CONCESSAO_BOLSA'] = df['ANO_CONCESSAO_BOLSA'].astype(int)\n",
    "\n",
    "# Converta a coluna 'DATA_NASCIMENTO' para o formato datetime\n",
    "df['DATA_NASCIMENTO'] = pd.to_datetime(df['DATA_NASCIMENTO'], format='%d/%m/%Y')"
   ]
  },
  {
   "cell_type": "code",
   "execution_count": 19,
   "metadata": {},
   "outputs": [
    {
     "name": "stdout",
     "output_type": "stream",
     "text": [
      "Valores únicos na coluna ANO_CONCESSAO_BOLSA:\n",
      "[2017 2018 2019 2020]\n",
      "------------------------------\n",
      "Valores únicos na coluna TIPO_BOLSA:\n",
      "['BOLSA PARCIAL 50%' 'BOLSA INTEGRAL' 'INTEGRAL' 'PARCIAL']\n",
      "------------------------------\n",
      "Valores únicos na coluna MODALIDADE_ENSINO_BOLSA:\n",
      "['Presencial' 'EAD' 'PRESENCIAL']\n",
      "------------------------------\n",
      "Valores únicos na coluna NOME_CURSO_BOLSA:\n",
      "['Ciências Contábeis' 'Ciências Sociais' 'Comunicação Social' ...\n",
      " 'MARKETING E PUBLICIDADE' 'COMPUTACAO GRAFICA' nan]\n",
      "------------------------------\n",
      "Valores únicos na coluna SEXO:\n",
      "['F' 'M']\n",
      "------------------------------\n",
      "Valores únicos na coluna RACA:\n",
      "['Branca' 'Parda' 'Preta' 'Amarela' 'Indígena' 'Não Informada'\n",
      " 'Nao Informada' 'Indigena']\n",
      "------------------------------\n",
      "Valores únicos na coluna DATA_NASCIMENTO:\n",
      "<DatetimeArray>\n",
      "['1992-04-29 00:00:00', '1999-01-24 00:00:00', '1994-05-19 00:00:00',\n",
      " '1997-01-31 00:00:00', '1994-11-24 00:00:00', '1998-03-27 00:00:00',\n",
      " '1999-09-06 00:00:00', '1999-12-02 00:00:00', '1998-02-15 00:00:00',\n",
      " '1997-03-19 00:00:00',\n",
      " ...\n",
      " '1952-10-20 00:00:00', '1960-11-14 00:00:00', '1965-03-11 00:00:00',\n",
      " '1953-09-30 00:00:00', '1958-07-18 00:00:00', '1964-07-22 00:00:00',\n",
      " '1959-10-12 00:00:00', '1960-04-28 00:00:00', '1971-02-17 00:00:00',\n",
      " '2019-10-23 00:00:00']\n",
      "Length: 15503, dtype: datetime64[ns]\n",
      "------------------------------\n",
      "Valores únicos na coluna DEFICIENTE_FISICO:\n",
      "['N' 'S']\n",
      "------------------------------\n",
      "Valores únicos na coluna REGIAO:\n",
      "['Sul' 'Sudeste' 'Norte' 'Nordeste' 'Centro-Oeste' 'SUDESTE' 'NORDESTE'\n",
      " 'SUL' 'CENTRO-OESTE' 'NORTE']\n",
      "------------------------------\n",
      "Valores únicos na coluna UF:\n",
      "['PR' 'SP' 'RO' 'MG' 'SC' 'ES' 'PE' 'RS' 'RJ' 'BA' 'PA' 'MA' 'MT' 'SE'\n",
      " 'DF' 'GO' 'CE' 'MS' 'AC' 'RR' 'TO' 'AM' 'AL' 'PB' 'RN' 'PI' 'AP']\n",
      "------------------------------\n"
     ]
    }
   ],
   "source": [
    "# analisando conteudo das colunas para padronização\n",
    "for coluna in df.columns:\n",
    "    valores_unicos = df[coluna].unique()\n",
    "    print(f\"Valores únicos na coluna {coluna}:\")\n",
    "    print(valores_unicos)\n",
    "    print(\"-\" * 30)"
   ]
  },
  {
   "cell_type": "code",
   "execution_count": 20,
   "metadata": {},
   "outputs": [],
   "source": [
    "# Padronizando os dados tornando todos os caracteres maiusculos e removendo acentos\n",
    "def padronizar(texto):\n",
    "  if isinstance(texto, str):\n",
    "    texto = unidecode(texto).upper() \n",
    "  return texto\n",
    "\n",
    "# Aplicando a função a toda a coluna\n",
    "for coluna in df.columns:\n",
    "    df[coluna] = df[coluna].apply(padronizar)\n",
    "\n",
    "# Alterando dados da coluna Tipo_Bolsa para ficar padronizado\n",
    "df['TIPO_BOLSA'] = df['TIPO_BOLSA'].replace({'BOLSA PARCIAL 50%': 'PARCIAL', 'BOLSA INTEGRAL': 'INTEGRAL'})\n",
    "df['SEXO'] = df['SEXO'].replace({'F': 'FEMININO', 'M': 'MASCULINO'})"
   ]
  },
  {
   "cell_type": "code",
   "execution_count": 21,
   "metadata": {},
   "outputs": [
    {
     "data": {
      "text/html": [
       "<div>\n",
       "<style scoped>\n",
       "    .dataframe tbody tr th:only-of-type {\n",
       "        vertical-align: middle;\n",
       "    }\n",
       "\n",
       "    .dataframe tbody tr th {\n",
       "        vertical-align: top;\n",
       "    }\n",
       "\n",
       "    .dataframe thead th {\n",
       "        text-align: right;\n",
       "    }\n",
       "</style>\n",
       "<table border=\"1\" class=\"dataframe\">\n",
       "  <thead>\n",
       "    <tr style=\"text-align: right;\">\n",
       "      <th></th>\n",
       "      <th>ANO_CONCESSAO_BOLSA</th>\n",
       "      <th>TIPO_BOLSA</th>\n",
       "      <th>MODALIDADE_ENSINO_BOLSA</th>\n",
       "      <th>NOME_CURSO_BOLSA</th>\n",
       "      <th>SEXO</th>\n",
       "      <th>RACA</th>\n",
       "      <th>DATA_NASCIMENTO</th>\n",
       "      <th>DEFICIENTE_FISICO</th>\n",
       "      <th>REGIAO</th>\n",
       "      <th>UF</th>\n",
       "    </tr>\n",
       "  </thead>\n",
       "  <tbody>\n",
       "    <tr>\n",
       "      <th>0</th>\n",
       "      <td>2017</td>\n",
       "      <td>PARCIAL</td>\n",
       "      <td>PRESENCIAL</td>\n",
       "      <td>CIENCIAS CONTABEIS</td>\n",
       "      <td>FEMININO</td>\n",
       "      <td>BRANCA</td>\n",
       "      <td>1992-04-29</td>\n",
       "      <td>N</td>\n",
       "      <td>SUL</td>\n",
       "      <td>PR</td>\n",
       "    </tr>\n",
       "    <tr>\n",
       "      <th>1</th>\n",
       "      <td>2017</td>\n",
       "      <td>PARCIAL</td>\n",
       "      <td>PRESENCIAL</td>\n",
       "      <td>CIENCIAS CONTABEIS</td>\n",
       "      <td>MASCULINO</td>\n",
       "      <td>BRANCA</td>\n",
       "      <td>1999-01-24</td>\n",
       "      <td>N</td>\n",
       "      <td>SUL</td>\n",
       "      <td>PR</td>\n",
       "    </tr>\n",
       "    <tr>\n",
       "      <th>2</th>\n",
       "      <td>2017</td>\n",
       "      <td>PARCIAL</td>\n",
       "      <td>PRESENCIAL</td>\n",
       "      <td>CIENCIAS CONTABEIS</td>\n",
       "      <td>MASCULINO</td>\n",
       "      <td>BRANCA</td>\n",
       "      <td>1994-05-19</td>\n",
       "      <td>N</td>\n",
       "      <td>SUL</td>\n",
       "      <td>PR</td>\n",
       "    </tr>\n",
       "    <tr>\n",
       "      <th>3</th>\n",
       "      <td>2017</td>\n",
       "      <td>PARCIAL</td>\n",
       "      <td>PRESENCIAL</td>\n",
       "      <td>CIENCIAS CONTABEIS</td>\n",
       "      <td>MASCULINO</td>\n",
       "      <td>BRANCA</td>\n",
       "      <td>1997-01-31</td>\n",
       "      <td>N</td>\n",
       "      <td>SUL</td>\n",
       "      <td>PR</td>\n",
       "    </tr>\n",
       "    <tr>\n",
       "      <th>4</th>\n",
       "      <td>2017</td>\n",
       "      <td>PARCIAL</td>\n",
       "      <td>PRESENCIAL</td>\n",
       "      <td>CIENCIAS CONTABEIS</td>\n",
       "      <td>MASCULINO</td>\n",
       "      <td>BRANCA</td>\n",
       "      <td>1994-11-24</td>\n",
       "      <td>N</td>\n",
       "      <td>SUL</td>\n",
       "      <td>PR</td>\n",
       "    </tr>\n",
       "  </tbody>\n",
       "</table>\n",
       "</div>"
      ],
      "text/plain": [
       "   ANO_CONCESSAO_BOLSA TIPO_BOLSA MODALIDADE_ENSINO_BOLSA    NOME_CURSO_BOLSA  \\\n",
       "0                 2017    PARCIAL              PRESENCIAL  CIENCIAS CONTABEIS   \n",
       "1                 2017    PARCIAL              PRESENCIAL  CIENCIAS CONTABEIS   \n",
       "2                 2017    PARCIAL              PRESENCIAL  CIENCIAS CONTABEIS   \n",
       "3                 2017    PARCIAL              PRESENCIAL  CIENCIAS CONTABEIS   \n",
       "4                 2017    PARCIAL              PRESENCIAL  CIENCIAS CONTABEIS   \n",
       "\n",
       "        SEXO    RACA DATA_NASCIMENTO DEFICIENTE_FISICO REGIAO  UF  \n",
       "0   FEMININO  BRANCA      1992-04-29                 N    SUL  PR  \n",
       "1  MASCULINO  BRANCA      1999-01-24                 N    SUL  PR  \n",
       "2  MASCULINO  BRANCA      1994-05-19                 N    SUL  PR  \n",
       "3  MASCULINO  BRANCA      1997-01-31                 N    SUL  PR  \n",
       "4  MASCULINO  BRANCA      1994-11-24                 N    SUL  PR  "
      ]
     },
     "execution_count": 21,
     "metadata": {},
     "output_type": "execute_result"
    }
   ],
   "source": [
    "df.head()"
   ]
  },
  {
   "cell_type": "markdown",
   "metadata": {},
   "source": [
    "## 4. Análise dos Dados"
   ]
  },
  {
   "cell_type": "markdown",
   "metadata": {},
   "source": [
    "#### 4.1 Análise Por Região"
   ]
  },
  {
   "cell_type": "markdown",
   "metadata": {},
   "source": [
    "Nesta etapa iremos analisar as distribuições das bolsas de estudos por região do País.<br>\n",
    "Será que as populações de cada região do país possuem acesso proporcional as Bolsas do ProUni?\n",
    "\n",
    "Para isso, iremos utilizar os dados do [Censo 2022](https://sidra.ibge.gov.br/tabela/4709) como comparativo. "
   ]
  },
  {
   "cell_type": "code",
   "execution_count": 22,
   "metadata": {},
   "outputs": [],
   "source": [
    "# Bibliotecas utilizadas nessa etapa\n",
    "import matplotlib.pyplot as plt\n",
    "import seaborn as sns\n",
    "import numpy as np"
   ]
  },
  {
   "cell_type": "code",
   "execution_count": 23,
   "metadata": {},
   "outputs": [],
   "source": [
    "#Dados do Censo 2022 de população por região do país\n",
    "dados = {\n",
    "    'Região': ['NORTE', 'NORDESTE', 'SUDESTE', 'SUL', 'CENTRO-OESTE'],\n",
    "    'População': [17354884, 54658515, 84840113, 29937706, 16289538]\n",
    "}\n",
    "df_pop = pd.DataFrame(dados)\n"
   ]
  },
  {
   "cell_type": "code",
   "execution_count": 24,
   "metadata": {},
   "outputs": [
    {
     "data": {
      "text/html": [
       "<div>\n",
       "<style scoped>\n",
       "    .dataframe tbody tr th:only-of-type {\n",
       "        vertical-align: middle;\n",
       "    }\n",
       "\n",
       "    .dataframe tbody tr th {\n",
       "        vertical-align: top;\n",
       "    }\n",
       "\n",
       "    .dataframe thead th {\n",
       "        text-align: right;\n",
       "    }\n",
       "</style>\n",
       "<table border=\"1\" class=\"dataframe\">\n",
       "  <thead>\n",
       "    <tr style=\"text-align: right;\">\n",
       "      <th></th>\n",
       "      <th>Região</th>\n",
       "      <th>População</th>\n",
       "      <th>pop_%</th>\n",
       "    </tr>\n",
       "  </thead>\n",
       "  <tbody>\n",
       "    <tr>\n",
       "      <th>0</th>\n",
       "      <td>NORTE</td>\n",
       "      <td>17354884</td>\n",
       "      <td>8.55</td>\n",
       "    </tr>\n",
       "    <tr>\n",
       "      <th>1</th>\n",
       "      <td>NORDESTE</td>\n",
       "      <td>54658515</td>\n",
       "      <td>26.91</td>\n",
       "    </tr>\n",
       "    <tr>\n",
       "      <th>2</th>\n",
       "      <td>SUDESTE</td>\n",
       "      <td>84840113</td>\n",
       "      <td>41.78</td>\n",
       "    </tr>\n",
       "    <tr>\n",
       "      <th>3</th>\n",
       "      <td>SUL</td>\n",
       "      <td>29937706</td>\n",
       "      <td>14.74</td>\n",
       "    </tr>\n",
       "    <tr>\n",
       "      <th>4</th>\n",
       "      <td>CENTRO-OESTE</td>\n",
       "      <td>16289538</td>\n",
       "      <td>8.02</td>\n",
       "    </tr>\n",
       "  </tbody>\n",
       "</table>\n",
       "</div>"
      ],
      "text/plain": [
       "         Região  População  pop_%\n",
       "0         NORTE   17354884   8.55\n",
       "1      NORDESTE   54658515  26.91\n",
       "2       SUDESTE   84840113  41.78\n",
       "3           SUL   29937706  14.74\n",
       "4  CENTRO-OESTE   16289538   8.02"
      ]
     },
     "execution_count": 24,
     "metadata": {},
     "output_type": "execute_result"
    }
   ],
   "source": [
    "# Cria uma nova coluna 'pop_%' com a % da população de cada região\n",
    "total_populacao = df_pop['População'].sum()\n",
    "df_pop['pop_%'] = (df_pop['População'] / total_populacao) * 100\n",
    "df_pop['pop_%'] = df_pop['pop_%'].round(2)\n",
    "df_pop\n"
   ]
  },
  {
   "cell_type": "code",
   "execution_count": 25,
   "metadata": {},
   "outputs": [
    {
     "data": {
      "text/html": [
       "<div>\n",
       "<style scoped>\n",
       "    .dataframe tbody tr th:only-of-type {\n",
       "        vertical-align: middle;\n",
       "    }\n",
       "\n",
       "    .dataframe tbody tr th {\n",
       "        vertical-align: top;\n",
       "    }\n",
       "\n",
       "    .dataframe thead th {\n",
       "        text-align: right;\n",
       "    }\n",
       "</style>\n",
       "<table border=\"1\" class=\"dataframe\">\n",
       "  <thead>\n",
       "    <tr style=\"text-align: right;\">\n",
       "      <th></th>\n",
       "      <th>Região</th>\n",
       "      <th>Bolsas</th>\n",
       "      <th>bolsas_%</th>\n",
       "    </tr>\n",
       "  </thead>\n",
       "  <tbody>\n",
       "    <tr>\n",
       "      <th>0</th>\n",
       "      <td>SUDESTE</td>\n",
       "      <td>384857</td>\n",
       "      <td>44.23</td>\n",
       "    </tr>\n",
       "    <tr>\n",
       "      <th>1</th>\n",
       "      <td>NORDESTE</td>\n",
       "      <td>190173</td>\n",
       "      <td>21.86</td>\n",
       "    </tr>\n",
       "    <tr>\n",
       "      <th>2</th>\n",
       "      <td>SUL</td>\n",
       "      <td>149472</td>\n",
       "      <td>17.18</td>\n",
       "    </tr>\n",
       "    <tr>\n",
       "      <th>3</th>\n",
       "      <td>CENTRO-OESTE</td>\n",
       "      <td>74844</td>\n",
       "      <td>8.60</td>\n",
       "    </tr>\n",
       "    <tr>\n",
       "      <th>4</th>\n",
       "      <td>NORTE</td>\n",
       "      <td>70707</td>\n",
       "      <td>8.13</td>\n",
       "    </tr>\n",
       "  </tbody>\n",
       "</table>\n",
       "</div>"
      ],
      "text/plain": [
       "         Região  Bolsas  bolsas_%\n",
       "0       SUDESTE  384857     44.23\n",
       "1      NORDESTE  190173     21.86\n",
       "2           SUL  149472     17.18\n",
       "3  CENTRO-OESTE   74844      8.60\n",
       "4         NORTE   70707      8.13"
      ]
     },
     "execution_count": 25,
     "metadata": {},
     "output_type": "execute_result"
    }
   ],
   "source": [
    "# Criando um df que contenha a relação entre regiões do Brasil e número de Bolsas\n",
    "bolsas_regiao = df['REGIAO'].value_counts().reset_index()\n",
    "\n",
    "# Renomeando as colunas para ficar mais claro\n",
    "bolsas_regiao.columns = ['Região', 'Bolsas']\n",
    "\n",
    "#criando a coluna de bolsas_% que apresenta a % de bolsas concedidas por cada região\n",
    "total_bolsas = bolsas_regiao['Bolsas'].sum()\n",
    "bolsas_regiao['bolsas_%'] = (bolsas_regiao['Bolsas'] / total_bolsas) * 100\n",
    "bolsas_regiao['bolsas_%'] = bolsas_regiao['bolsas_%'].round(2)\n",
    "df_bolsas_regiao = pd.DataFrame(bolsas_regiao)\n",
    "df_bolsas_regiao\n"
   ]
  },
  {
   "cell_type": "code",
   "execution_count": 26,
   "metadata": {},
   "outputs": [
    {
     "data": {
      "image/png": "[encoded data removed]",
      "text/plain": [
       "<Figure size 1000x600 with 1 Axes>"
      ]
     },
     "metadata": {},
     "output_type": "display_data"
    }
   ],
   "source": [
    "# Combinar os DataFrames para geração do gráfico de barras \n",
    "df_combinado = pd.merge(df_pop[['Região', 'pop_%']], df_bolsas_regiao[['Região','bolsas_%']], on='Região', how='inner')\n",
    "df_combinado = pd.DataFrame(df_combinado)\n",
    "\n",
    "\n",
    "# Definindo a largura de cada barra no gráfico\n",
    "bar_width = 0.35\n",
    "\n",
    "# Criando o gráfico de barras\n",
    "plt.figure(figsize=(10, 6))\n",
    "\n",
    "# Criando as barras para pop_%\n",
    "plt.bar(np.arange(len(df_combinado['Região'])), df_combinado['pop_%'], width=bar_width, label='População (%)', color='blue', alpha=0.6)\n",
    "\n",
    "# Criando as barras para bolsas_%\n",
    "plt.bar(np.arange(len(df_combinado['Região'])) + bar_width, df_combinado['bolsas_%'], width=bar_width, label='Bolsas (%)', color='orange', alpha=0.6)\n",
    "\n",
    "# Adicionando título e rótulos\n",
    "plt.title('Porcentagem de População e Bolsas do ProUni por Região do Brasil')\n",
    "plt.xticks(np.arange(len(df_combinado['Região'])) + bar_width / 2, df_combinado['Região'], rotation=45)  # Ajustando os rótulos do eixo x\n",
    "plt.legend()\n",
    "\n",
    "# Exibindo o gráfico\n",
    "plt.tight_layout()\n",
    "plt.show()"
   ]
  },
  {
   "cell_type": "markdown",
   "metadata": {},
   "source": [
    "#### Resultado"
   ]
  },
  {
   "cell_type": "markdown",
   "metadata": {},
   "source": [
    "Podemos verificar que a distribuição de bolsas segue a relação da população brasileira por região. As regiões com maior população são aquelas que apresentam mais bolsas concedidas pelo programa <br>\n",
    "\n",
    "Porém, é importante destacar que nas regiões mais pobre do país, sobre tudo o Nordeste, em que a diferença é mais visível, a porcentagem da população do pais é significamente maior que a porcentagem de bolsas distribuidas.<br>\n",
    "Por outro lado, regiões como a sul e sudeste, a porcentagem de bolsas obtidas é maior que a porcentagem da população brasileira. <br>\n",
    "\n",
    "Tendo em vista que o ProUni se coloca como um programa de democratização da educação, as regiões mais pobre do país deveriam apresentar uma porcentagem mais significativa das bolsas recebidas."
   ]
  },
  {
   "cell_type": "markdown",
   "metadata": {},
   "source": [
    "#### 4.2 Análise Por Raça"
   ]
  },
  {
   "cell_type": "markdown",
   "metadata": {},
   "source": [
    "Partindo do mesmo princípio da análise 4.1, iremos verificar se existe uma relação entre a distribuição de bolsas pelo ProUni para as cor ou raça. <br>\n",
    "\n",
    "Ainda que esses dados sejam uma auto declaração, é importante que se tenha uma análise para entender o acessoa a educação através das políticas públicas do Brasil. <br>\n",
    "\n",
    "Como dados comparitvos, iremos também utilizar os dados do censo do IBGE, porém dessa vez os dados se encontram em uma reportagem do Orgão Governamental que pode ser acessado [aqui](https://educa.ibge.gov.br/jovens/conheca-o-brasil/populacao/18319-cor-ou-raca.html)"
   ]
  },
  {
   "cell_type": "code",
   "execution_count": 27,
   "metadata": {},
   "outputs": [
    {
     "data": {
      "text/html": [
       "<div>\n",
       "<style scoped>\n",
       "    .dataframe tbody tr th:only-of-type {\n",
       "        vertical-align: middle;\n",
       "    }\n",
       "\n",
       "    .dataframe tbody tr th {\n",
       "        vertical-align: top;\n",
       "    }\n",
       "\n",
       "    .dataframe thead th {\n",
       "        text-align: right;\n",
       "    }\n",
       "</style>\n",
       "<table border=\"1\" class=\"dataframe\">\n",
       "  <thead>\n",
       "    <tr style=\"text-align: right;\">\n",
       "      <th></th>\n",
       "      <th>Raça</th>\n",
       "      <th>População</th>\n",
       "    </tr>\n",
       "  </thead>\n",
       "  <tbody>\n",
       "    <tr>\n",
       "      <th>0</th>\n",
       "      <td>PARDA</td>\n",
       "      <td>45.3</td>\n",
       "    </tr>\n",
       "    <tr>\n",
       "      <th>1</th>\n",
       "      <td>BRANCA</td>\n",
       "      <td>43.5</td>\n",
       "    </tr>\n",
       "    <tr>\n",
       "      <th>2</th>\n",
       "      <td>PRETA</td>\n",
       "      <td>10.2</td>\n",
       "    </tr>\n",
       "    <tr>\n",
       "      <th>3</th>\n",
       "      <td>INDIGENA</td>\n",
       "      <td>0.6</td>\n",
       "    </tr>\n",
       "    <tr>\n",
       "      <th>4</th>\n",
       "      <td>AMARELA</td>\n",
       "      <td>0.4</td>\n",
       "    </tr>\n",
       "  </tbody>\n",
       "</table>\n",
       "</div>"
      ],
      "text/plain": [
       "       Raça  População\n",
       "0     PARDA       45.3\n",
       "1    BRANCA       43.5\n",
       "2     PRETA       10.2\n",
       "3  INDIGENA        0.6\n",
       "4   AMARELA        0.4"
      ]
     },
     "execution_count": 27,
     "metadata": {},
     "output_type": "execute_result"
    }
   ],
   "source": [
    "#Dados do Censo 2022 de população por raça no pais\n",
    "dados = {\n",
    "    'Raça': ['PARDA', 'BRANCA', 'PRETA', 'INDIGENA', 'AMARELA'],\n",
    "    'População': [45.3, 43.5, 10.2, 0.6, 0.4]\n",
    "}\n",
    "df_cor = pd.DataFrame(dados)\n",
    "df_cor"
   ]
  },
  {
   "cell_type": "code",
   "execution_count": 30,
   "metadata": {},
   "outputs": [],
   "source": [
    "# Criando um df que contenha a relação entre Cor/Raca e número de Bolsas\n",
    "bolsas_cor = df['RACA'].value_counts().reset_index()\n",
    "\n",
    "# Renomeando as colunas para ficar mais claro\n",
    "bolsas_cor.columns = ['Raça', 'Bolsas']\n",
    "df_bolsas_cor = pd.DataFrame(bolsas_cor)\n"
   ]
  },
  {
   "cell_type": "code",
   "execution_count": 31,
   "metadata": {},
   "outputs": [
    {
     "data": {
      "text/html": [
       "<div>\n",
       "<style scoped>\n",
       "    .dataframe tbody tr th:only-of-type {\n",
       "        vertical-align: middle;\n",
       "    }\n",
       "\n",
       "    .dataframe tbody tr th {\n",
       "        vertical-align: top;\n",
       "    }\n",
       "\n",
       "    .dataframe thead th {\n",
       "        text-align: right;\n",
       "    }\n",
       "</style>\n",
       "<table border=\"1\" class=\"dataframe\">\n",
       "  <thead>\n",
       "    <tr style=\"text-align: right;\">\n",
       "      <th></th>\n",
       "      <th>Raça</th>\n",
       "      <th>Bolsas</th>\n",
       "      <th>bolsas_%</th>\n",
       "    </tr>\n",
       "  </thead>\n",
       "  <tbody>\n",
       "    <tr>\n",
       "      <th>0</th>\n",
       "      <td>PARDA</td>\n",
       "      <td>403135</td>\n",
       "      <td>46.34</td>\n",
       "    </tr>\n",
       "    <tr>\n",
       "      <th>1</th>\n",
       "      <td>BRANCA</td>\n",
       "      <td>338585</td>\n",
       "      <td>38.92</td>\n",
       "    </tr>\n",
       "    <tr>\n",
       "      <th>2</th>\n",
       "      <td>PRETA</td>\n",
       "      <td>112589</td>\n",
       "      <td>12.94</td>\n",
       "    </tr>\n",
       "    <tr>\n",
       "      <th>3</th>\n",
       "      <td>AMARELA</td>\n",
       "      <td>14886</td>\n",
       "      <td>1.71</td>\n",
       "    </tr>\n",
       "    <tr>\n",
       "      <th>4</th>\n",
       "      <td>INDIGENA</td>\n",
       "      <td>745</td>\n",
       "      <td>0.09</td>\n",
       "    </tr>\n",
       "  </tbody>\n",
       "</table>\n",
       "</div>"
      ],
      "text/plain": [
       "       Raça  Bolsas  bolsas_%\n",
       "0     PARDA  403135     46.34\n",
       "1    BRANCA  338585     38.92\n",
       "2     PRETA  112589     12.94\n",
       "3   AMARELA   14886      1.71\n",
       "4  INDIGENA     745      0.09"
      ]
     },
     "execution_count": 31,
     "metadata": {},
     "output_type": "execute_result"
    }
   ],
   "source": [
    "# para uma melhor classificação, iremos excluir os valores marcados como não informada\n",
    "\n",
    "df_bolsas_cor = df_bolsas_cor.query(\"Raça != 'NAO INFORMADA'\")\n",
    "\n",
    "#criando a coluna de bolsas_% que apresenta a % de bolsas concedidas por cada genero\n",
    "total_bolsa = df_bolsas_cor['Bolsas'].sum()\n",
    "df_bolsas_cor['bolsas_%'] = (df_bolsas_cor['Bolsas'] / total_bolsa) * 100\n",
    "df_bolsas_cor['bolsas_%'] = df_bolsas_cor['bolsas_%'].round(2)\n",
    "df_bolsas_cor\n"
   ]
  },
  {
   "cell_type": "code",
   "execution_count": 32,
   "metadata": {},
   "outputs": [
    {
     "data": {
      "image/png": "[encoded data removed]",
      "text/plain": [
       "<Figure size 1000x600 with 1 Axes>"
      ]
     },
     "metadata": {},
     "output_type": "display_data"
    }
   ],
   "source": [
    "# Combinar os DataFrames para geração do gráfico de barras \n",
    "df_unico = pd.merge(df_cor[['Raça', 'População']], df_bolsas_cor[['Raça','bolsas_%']], on='Raça', how='inner')\n",
    "df_unico = pd.DataFrame(df_unico)\n",
    "df_unico\n",
    "\n",
    "# Definindo a largura de cada barra no gráfico\n",
    "bar_width = 0.35\n",
    "\n",
    "# Criando o gráfico de barras\n",
    "plt.figure(figsize=(10, 6))\n",
    "\n",
    "# Criando as barras para População\n",
    "plt.bar(np.arange(len(df_unico['Raça'])), df_unico['População'], width=bar_width, label='População (%)', color='blue', alpha=0.6)\n",
    "\n",
    "# Criando as barras para bolsas_%\n",
    "plt.bar(np.arange(len(df_unico['Raça'])) + bar_width, df_unico['bolsas_%'], width=bar_width, label='Bolsas (%)', color='orange', alpha=0.6)\n",
    "\n",
    "# Adicionando título e rótulos\n",
    "plt.title('Porcentagem de População e Bolsas do ProUni por Raça no Brasil')\n",
    "plt.xticks(np.arange(len(df_unico['Raça'])) + bar_width / 2, df_unico['Raça'], rotation=45)  # Ajustando os rótulos do eixo x\n",
    "plt.legend()\n",
    "\n",
    "# Exibindo o gráfico\n",
    "plt.tight_layout()\n",
    "plt.show()"
   ]
  },
  {
   "cell_type": "markdown",
   "metadata": {},
   "source": [
    "#### Resultado"
   ]
  },
  {
   "cell_type": "markdown",
   "metadata": {},
   "source": [
    "Em relação a Raça/Cor podemos observar uma grande democratização e inclusão nas bolsas distribuidas pelo ProUni. <br>\n",
    "\n",
    "Observa-se que populações Pretas e Pardas apresentam uma porcentagem maior de bolsas recebidas comparada com a porcentagem de brasileiros que autodeclarão pertecentes a essa cor. <br>\n",
    "Isso é fundamental para que essas populações tenham acesso a diplomas de graduação.<br>\n",
    "\n",
    "Observa-se ainda que a população Branca recebe uma porcetagem de bolsas menor que a porcetagem da população autodenominada pertecente a essa cor.<br>\n",
    "Isso pode monstrar uma preocupação governamental para com as outras raças tratadas como minoria no país. Uma medida de inclusão das outras raças para um ambiente muitas vezes negados a eles. \n",
    "\n",
    "\n",
    "Um ponto de atenção a se destacar é a participação da comunidade indígena no ProUni. A sua participação é muito baixa, mesmo levando em consideração que menos de 1% dos brasileiros são indígenas."
   ]
  },
  {
   "cell_type": "markdown",
   "metadata": {},
   "source": [
    "#### 4.3 Análise Por Gênero"
   ]
  },
  {
   "cell_type": "markdown",
   "metadata": {},
   "source": [
    "Nesta etapas analisaremos a relação entre gêneros nas bolsas distribuidas pelo ProUni. <br>\n",
    "Os dados presentes sobre gênero, retirados po Censo Demográfico 2022, podem ser conferidos no [site do IBGE](https://educa.ibge.gov.br/jovens/conheca-o-brasil/populacao/18320-quantidade-de-homens-e-mulheres.html)"
   ]
  },
  {
   "cell_type": "code",
   "execution_count": 183,
   "metadata": {},
   "outputs": [
    {
     "data": {
      "text/html": [
       "<div>\n",
       "<style scoped>\n",
       "    .dataframe tbody tr th:only-of-type {\n",
       "        vertical-align: middle;\n",
       "    }\n",
       "\n",
       "    .dataframe tbody tr th {\n",
       "        vertical-align: top;\n",
       "    }\n",
       "\n",
       "    .dataframe thead th {\n",
       "        text-align: right;\n",
       "    }\n",
       "</style>\n",
       "<table border=\"1\" class=\"dataframe\">\n",
       "  <thead>\n",
       "    <tr style=\"text-align: right;\">\n",
       "      <th></th>\n",
       "      <th>Gênero</th>\n",
       "      <th>Porcentagem</th>\n",
       "    </tr>\n",
       "  </thead>\n",
       "  <tbody>\n",
       "    <tr>\n",
       "      <th>0</th>\n",
       "      <td>MASCULINO</td>\n",
       "      <td>48.5</td>\n",
       "    </tr>\n",
       "    <tr>\n",
       "      <th>1</th>\n",
       "      <td>FEMININO</td>\n",
       "      <td>51.5</td>\n",
       "    </tr>\n",
       "  </tbody>\n",
       "</table>\n",
       "</div>"
      ],
      "text/plain": [
       "      Gênero  Porcentagem\n",
       "0  MASCULINO         48.5\n",
       "1   FEMININO         51.5"
      ]
     },
     "execution_count": 183,
     "metadata": {},
     "output_type": "execute_result"
    }
   ],
   "source": [
    "#Dados do Censo 2022 de população por gênero\n",
    "dados = {\n",
    "    'Gênero': ['MASCULINO', 'FEMININO'],\n",
    "    'Porcentagem': [48.5, 51.5]\n",
    "}\n",
    "df_genero = pd.DataFrame(dados)\n",
    "df_genero"
   ]
  },
  {
   "cell_type": "code",
   "execution_count": 184,
   "metadata": {},
   "outputs": [
    {
     "data": {
      "text/html": [
       "<div>\n",
       "<style scoped>\n",
       "    .dataframe tbody tr th:only-of-type {\n",
       "        vertical-align: middle;\n",
       "    }\n",
       "\n",
       "    .dataframe tbody tr th {\n",
       "        vertical-align: top;\n",
       "    }\n",
       "\n",
       "    .dataframe thead th {\n",
       "        text-align: right;\n",
       "    }\n",
       "</style>\n",
       "<table border=\"1\" class=\"dataframe\">\n",
       "  <thead>\n",
       "    <tr style=\"text-align: right;\">\n",
       "      <th></th>\n",
       "      <th>Gênero</th>\n",
       "      <th>Bolsas</th>\n",
       "      <th>bolsas_%</th>\n",
       "    </tr>\n",
       "  </thead>\n",
       "  <tbody>\n",
       "    <tr>\n",
       "      <th>0</th>\n",
       "      <td>FEMININO</td>\n",
       "      <td>497510</td>\n",
       "      <td>57.18</td>\n",
       "    </tr>\n",
       "    <tr>\n",
       "      <th>1</th>\n",
       "      <td>MASCULINO</td>\n",
       "      <td>372543</td>\n",
       "      <td>42.82</td>\n",
       "    </tr>\n",
       "  </tbody>\n",
       "</table>\n",
       "</div>"
      ],
      "text/plain": [
       "      Gênero  Bolsas  bolsas_%\n",
       "0   FEMININO  497510     57.18\n",
       "1  MASCULINO  372543     42.82"
      ]
     },
     "execution_count": 184,
     "metadata": {},
     "output_type": "execute_result"
    }
   ],
   "source": [
    "# Criando um df que contenha a relação entre genero e número de Bolsas\n",
    "bolsas_genero = df['SEXO'].value_counts().reset_index()\n",
    "\n",
    "# Renomeando as colunas para ficar mais claro\n",
    "bolsas_genero.columns = ['Gênero', 'Bolsas']\n",
    "\n",
    "#criando a coluna de bolsas_% que apresenta a % de bolsas concedidas por cada genero\n",
    "total_bolsa = bolsas_genero['Bolsas'].sum()\n",
    "bolsas_genero['bolsas_%'] = (bolsas_genero['Bolsas'] / total_bolsa) * 100\n",
    "bolsas_genero['bolsas_%'] = bolsas_genero['bolsas_%'].round(2)\n",
    "df_bolsas_genero = pd.DataFrame(bolsas_genero)\n",
    "df_bolsas_genero\n"
   ]
  },
  {
   "cell_type": "code",
   "execution_count": 187,
   "metadata": {},
   "outputs": [
    {
     "data": {
      "image/png": "[encoded data removed]",
      "text/plain": [
       "<Figure size 1000x600 with 1 Axes>"
      ]
     },
     "metadata": {},
     "output_type": "display_data"
    }
   ],
   "source": [
    "# Combinar os DataFrames para geração do gráfico de barras \n",
    "df_genero_geral = pd.merge(df_genero[['Gênero', 'Porcentagem']], df_bolsas_genero[['Gênero','bolsas_%']], on='Gênero', how='inner')\n",
    "df_genero_geral = pd.DataFrame(df_genero_geral)\n",
    "df_genero_geral\n",
    "\n",
    "# Definindo a largura de cada barra no gráfico\n",
    "bar_width = 0.35\n",
    "\n",
    "# Criando o gráfico de barras\n",
    "plt.figure(figsize=(10, 6))\n",
    "\n",
    "# Criando as barras para Porcentagem\n",
    "plt.bar(np.arange(len(df_genero_geral['Gênero'])), df_genero_geral['Porcentagem'], width=bar_width, label='Porcentagem (%)', color='blue', alpha=0.6)\n",
    "\n",
    "# Criando as barras para bolsas_%\n",
    "plt.bar(np.arange(len(df_genero_geral['Gênero'])) + bar_width, df_genero_geral['bolsas_%'], width=bar_width, label='Bolsas (%)', color='orange', alpha=0.6)\n",
    "\n",
    "# Adicionando título e rótulos\n",
    "plt.title('Porcentagem de População e Bolsas do ProUni por Gênero no Brasil')\n",
    "plt.xticks(np.arange(len(df_genero_geral['Gênero'])) + bar_width / 2, df_genero_geral['Gênero'], rotation=45)  # Ajustando os rótulos do eixo x\n",
    "plt.legend()\n",
    "\n",
    "# Exibindo o gráfico\n",
    "plt.tight_layout()\n",
    "plt.show()"
   ]
  },
  {
   "cell_type": "markdown",
   "metadata": {},
   "source": [
    "#### Resultado"
   ]
  },
  {
   "cell_type": "markdown",
   "metadata": {},
   "source": [
    "Nesses dados observa-se que o ProUni também busca a democratização da educação. Uma vez que as bolsas distribuidas por gênero seguem a porcetagem da população brasileira <br>\n",
    "\n",
    "Ainda se observa uma maior distribuição de bolsas para o gênero feminino. O que demonstra uma busca maior das mulheres por um diploma de graduação, algo que há alguns anos poucas mulheres o possuia. <br>\n",
    "\n",
    "Antes vistas apenas com a função de donas de casa, as mulheres estão buscando cada vez mais educação. "
   ]
  },
  {
   "cell_type": "markdown",
   "metadata": {},
   "source": []
  },
  {
   "cell_type": "markdown",
   "metadata": {},
   "source": [
    "#### 4.4 Análise do Número de Bolsas"
   ]
  },
  {
   "cell_type": "markdown",
   "metadata": {},
   "source": [
    "Nesta última etapa iremos analisar o número de bolsas ofertadas pelo ProUni ao longo dos 4 anos analisados. "
   ]
  },
  {
   "cell_type": "code",
   "execution_count": null,
   "metadata": {},
   "outputs": [
    {
     "data": {
      "text/html": [
       "<div>\n",
       "<style scoped>\n",
       "    .dataframe tbody tr th:only-of-type {\n",
       "        vertical-align: middle;\n",
       "    }\n",
       "\n",
       "    .dataframe tbody tr th {\n",
       "        vertical-align: top;\n",
       "    }\n",
       "\n",
       "    .dataframe thead th {\n",
       "        text-align: right;\n",
       "    }\n",
       "</style>\n",
       "<table border=\"1\" class=\"dataframe\">\n",
       "  <thead>\n",
       "    <tr style=\"text-align: right;\">\n",
       "      <th></th>\n",
       "      <th>Ano</th>\n",
       "      <th>Bolsas</th>\n",
       "    </tr>\n",
       "  </thead>\n",
       "  <tbody>\n",
       "    <tr>\n",
       "      <th>1</th>\n",
       "      <td>2017</td>\n",
       "      <td>236636</td>\n",
       "    </tr>\n",
       "    <tr>\n",
       "      <th>0</th>\n",
       "      <td>2018</td>\n",
       "      <td>241032</td>\n",
       "    </tr>\n",
       "    <tr>\n",
       "      <th>2</th>\n",
       "      <td>2019</td>\n",
       "      <td>225555</td>\n",
       "    </tr>\n",
       "    <tr>\n",
       "      <th>3</th>\n",
       "      <td>2020</td>\n",
       "      <td>166830</td>\n",
       "    </tr>\n",
       "  </tbody>\n",
       "</table>\n",
       "</div>"
      ],
      "text/plain": [
       "    Ano  Bolsas\n",
       "1  2017  236636\n",
       "0  2018  241032\n",
       "2  2019  225555\n",
       "3  2020  166830"
      ]
     },
     "execution_count": 199,
     "metadata": {},
     "output_type": "execute_result"
    }
   ],
   "source": [
    "# Criando um df que contenha a relação entre genero e número de Bolsas\n",
    "bolsas_ano = df['ANO_CONCESSAO_BOLSA'].value_counts().reset_index().sort_values(by=\"ANO_CONCESSAO_BOLSA\")\n",
    "\n",
    "# Renomeando as colunas para ficar mais claro\n",
    "bolsas_ano.columns = ['Ano', 'Bolsas']\n",
    "df_bolsas_ano = pd.DataFrame(bolsas_ano)\n",
    "df_bolsas_ano"
   ]
  },
  {
   "cell_type": "code",
   "execution_count": 204,
   "metadata": {},
   "outputs": [
    {
     "data": {
      "image/png": "[encoded data removed]",
      "text/plain": [
       "<Figure size 1000x600 with 1 Axes>"
      ]
     },
     "metadata": {},
     "output_type": "display_data"
    }
   ],
   "source": [
    "plt.figure(figsize=(10, 6))  # Ajustando o tamanho da figura\n",
    "\n",
    "# Plotando os dados com o marcador 'o'\n",
    "plt.plot(df_bolsas_ano['Ano'], df_bolsas_ano['Bolsas'], marker='o', linestyle='-')\n",
    "\n",
    "# Adicionando marcadores e valores\n",
    "for x, y in zip(df_bolsas_ano['Ano'], df_bolsas_ano['Bolsas']):\n",
    "    plt.annotate(str(y), xy=(x, y), textcoords='offset points', xytext=(0, 5), ha='center')\n",
    "\n",
    "# Personalizando o gráfico\n",
    "plt.title('Bolsas Concedidas Por Ano')\n",
    "plt.grid(False)\n",
    "plt.xticks([2017, 2018, 2019, 2020])\n",
    "\n",
    "plt.show()"
   ]
  },
  {
   "cell_type": "code",
   "execution_count": 210,
   "metadata": {},
   "outputs": [
    {
     "data": {
      "image/png": "[encoded data removed]",
      "text/plain": [
       "<Figure size 1000x600 with 1 Axes>"
      ]
     },
     "metadata": {},
     "output_type": "display_data"
    }
   ],
   "source": [
    "# Gráfico para analisar a quantidade de bolsas distribuidas em cada ano por tipo de Bolsa \n",
    "df_grouped = df.groupby(['ANO_CONCESSAO_BOLSA', 'MODALIDADE_ENSINO_BOLSA']).size().reset_index(name='Contagem')\n",
    "\n",
    "# Criar o gráfico de barras agrupado\n",
    "plt.figure(figsize=(10, 6))\n",
    "\n",
    "# Definir a largura das barras e o espaço entre os grupos\n",
    "bar_width = 0.35\n",
    "index = df_grouped['ANO_CONCESSAO_BOLSA'].unique()\n",
    "\n",
    "# Criar as barras para cada modalidade\n",
    "plt.bar(index - bar_width/2, df_grouped[df_grouped['MODALIDADE_ENSINO_BOLSA'] == 'PRESENCIAL']['Contagem'], bar_width, label='Presencial')\n",
    "plt.bar(index + bar_width/2, df_grouped[df_grouped['MODALIDADE_ENSINO_BOLSA'] == 'EAD']['Contagem'], bar_width, label='EAD')\n",
    "\n",
    "# Personalizar o gráfico\n",
    "plt.ylabel('Número de Bolsas')\n",
    "plt.title('Distribuição de Bolsas por Modalidade e Ano')\n",
    "plt.xticks(index, rotation=45)  # Rotacionar os rótulos do eixo x\n",
    "plt.legend()\n",
    "\n",
    "# Mostrar o gráfico\n",
    "plt.show()"
   ]
  },
  {
   "cell_type": "markdown",
   "metadata": {},
   "source": [
    "#### Resultado"
   ]
  },
  {
   "cell_type": "markdown",
   "metadata": {},
   "source": [
    "Aqui já podemos enxergar um grande problema no ProUni <br>\n",
    "\n",
    "Nos últimos dois anos em Análise, podemos verificar que houve uma grande diminuição nas bolsas distribuidas pelo programa <br>\n",
    "Essa diminuição chega a quase 30% se compararmos 2017 com 2020.<br>\n",
    "\n",
    "Levando em conta que no ano de 2020 passamo por uma pandemia, é plausível que a diminuição das bolsas presenciais tenham caído por esse motivo. <br>\n",
    "Porém, levando em conta o mesmo pensamento, presupõe-se um aumento nas bolsas EAD. Porém os dados demonstram o contrário. \n"
   ]
  },
  {
   "cell_type": "markdown",
   "metadata": {},
   "source": [
    "## 5. Conclusão"
   ]
  },
  {
   "cell_type": "markdown",
   "metadata": {},
   "source": [
    "Através da análise dos dados podemos confirmar que o ProUni busca levar sim uma educação a todas as regiões do país e também a todos os tipos de pessoas <br>\n",
    "O projeto apresenta uma grande oportunidade para que vários brasileiros possam conseguir os seu primeiro diploma <br>\n",
    "<br><br>\n",
    "##### Pontos Positivos\n",
    "O ProUni atende de maneira significativa populações que apresentam uma discriminalização social <br>\n",
    "Em relação a raça/cor mais de 50% dos alunos atendidos com bolsa são pardos ou negros. <br>\n",
    "O mesmo ocorre com mulheres, que são a maioria dos bolsista do programa quando analisamos o gênero <br>\n",
    "De forma indireta, ter esses alunos a oportunidade de acesso ao ensino superior pode mudar a realidade deles e de muitos outros ao seu redor. \n",
    "<br><br>\n",
    "##### Pontos Negativos\n",
    "Em relação a distribuição geográfica das bolsas, o ProUni se concentra mais em regiões desenvolvidas como o sul e o sudeste, quando comparamos a distribuição da população brasileira.<br>\n",
    "Para democratizar a educação é necessários que regiões como o Norte e Nordeste tenham um crescimento do número de bolsas concedidas. Para que, assim, o ProUni traga mais oportunidades para essa Região\n",
    "\n",
    "<center><strong><h3>Ponto Gravissímo</h3></strong></center>\n",
    "O número de bolsas do ProUni, entre os anos analisados diminuiu drasticamente<br>\n",
    "Talvez o ProUni não seja o Programa Universidade Para Todos não por atender de maneira privilegiadas grupos predominantes da sociedade, <br>\n",
    "mas sim porque está cada vez mais diminuindo a sua abrangência. \n",
    "\n",
    "\n"
   ]
  }
 ],
 "metadata": {
  "kernelspec": {
   "display_name": "Python 3",
   "language": "python",
   "name": "python3"
  },
  "language_info": {
   "codemirror_mode": {
    "name": "ipython",
    "version": 3
   },
   "file_extension": ".py",
   "mimetype": "text/x-python",
   "name": "python",
   "nbconvert_exporter": "python",
   "pygments_lexer": "ipython3",
   "version": "3.13.1"
  }
 },
 "nbformat": 4,
 "nbformat_minor": 2
}
